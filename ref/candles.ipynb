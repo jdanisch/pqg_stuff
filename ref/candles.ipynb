{
 "cells": [
  {
   "cell_type": "code",
   "execution_count": 1,
   "metadata": {},
   "outputs": [
    {
     "name": "stderr",
     "output_type": "stream",
     "text": [
      "/home/john/miniconda3/envs/oanpy/lib/python3.6/site-packages/h5py/__init__.py:36: FutureWarning: Conversion of the second argument of issubdtype from `float` to `np.floating` is deprecated. In future, it will be treated as `np.float64 == np.dtype(float).type`.\n",
      "  from ._conv import register_converters as _register_converters\n"
     ]
    }
   ],
   "source": [
    "import pyqtgraph as pg\n",
    "from pyqtgraph import QtCore, QtGui\n",
    "import numpy as np"
   ]
  },
  {
   "cell_type": "code",
   "execution_count": 5,
   "metadata": {},
   "outputs": [],
   "source": [
    "data = [  ## fields are (time, open, close, min, max).\n",
    "    (1., 10, 13, 5, 15),\n",
    "    (2., 13, 17, 9, 20),\n",
    "    (3., 17, 14, 11, 23),\n",
    "    (4., 14, 15, 5, 19),\n",
    "    (5., 15, 9, 8, 22),\n",
    "    (6., 9, 15, 8, 16),\n",
    "]"
   ]
  },
  {
   "cell_type": "code",
   "execution_count": 2,
   "metadata": {},
   "outputs": [],
   "source": [
    "class CandlestickItem(pg.GraphicsObject):\n",
    "    def __init__(self, data):\n",
    "        pg.GraphicsObject.__init__(self)\n",
    "        self.data = data  ## data must have fields: time, open, close, min, max\n",
    "        self.generatePicture()\n",
    "    \n",
    "    def generatePicture(self):\n",
    "        ## pre-computing a QPicture object allows paint() to run much more quickly, \n",
    "        ## rather than re-drawing the shapes every time.\n",
    "        self.picture = QtGui.QPicture()\n",
    "        p = QtGui.QPainter(self.picture)\n",
    "        p.setPen(pg.mkPen('w'))\n",
    "        w = (self.data[1][0] - self.data[0][0]) / 3.\n",
    "        for (t, open, close, min, max) in self.data:\n",
    "            p.drawLine(QtCore.QPointF(t, min), QtCore.QPointF(t, max))\n",
    "            if open > close:\n",
    "                p.setBrush(pg.mkBrush('r'))\n",
    "            else:\n",
    "                p.setBrush(pg.mkBrush('g'))\n",
    "            p.drawRect(QtCore.QRectF(t-w, open, w*2, close-open))\n",
    "        p.end()\n",
    "    \n",
    "    def paint(self, p, *args):\n",
    "        p.drawPicture(0, 0, self.picture)\n",
    "    \n",
    "    def boundingRect(self):\n",
    "        ## boundingRect _must_ indicate the entire area that will be drawn on\n",
    "        ## or else we will get artifacts and possibly crashing.\n",
    "        ## (in this case, QPicture does all the work of computing the bouning rect for us)\n",
    "        return QtCore.QRectF(self.picture.boundingRect())"
   ]
  },
  {
   "cell_type": "code",
   "execution_count": 7,
   "metadata": {},
   "outputs": [],
   "source": [
    "pic = QtGui.QPicture()\n",
    "p = QtGui.QPainter(pic)"
   ]
  },
  {
   "cell_type": "code",
   "execution_count": 26,
   "metadata": {},
   "outputs": [],
   "source": [
    "p.setPen(pg.mkPen('w'))"
   ]
  },
  {
   "cell_type": "code",
   "execution_count": 27,
   "metadata": {},
   "outputs": [],
   "source": [
    "p.drawLine(QtCore.QPointF(data[0][0],data[0][3]), QtCore.QPoint(data[0][0],data[0][4]))\n",
    "p.drawPicture(0,0,pic)"
   ]
  },
  {
   "cell_type": "code",
   "execution_count": 28,
   "metadata": {},
   "outputs": [
    {
     "data": {
      "text/plain": [
       "0"
      ]
     },
     "execution_count": 28,
     "metadata": {},
     "output_type": "execute_result"
    }
   ],
   "source": [
    "test1 = pg.plot()\n",
    "test1.setWindowTitle('shit')\n",
    "pg.QtGui.QApplication.exec_()"
   ]
  },
  {
   "cell_type": "code",
   "execution_count": 4,
   "metadata": {},
   "outputs": [
    {
     "data": {
      "text/plain": [
       "0"
      ]
     },
     "execution_count": 4,
     "metadata": {},
     "output_type": "execute_result"
    }
   ],
   "source": [
    "item = CandlestickItem(data)\n",
    "plt = pg.plot()\n",
    "plt.addItem(item)\n",
    "plt.setWindowTitle('pyqtgraph example: customGraphicsItem')\n",
    "pg.QtGui.QApplication.exec_()"
   ]
  },
  {
   "cell_type": "code",
   "execution_count": null,
   "metadata": {},
   "outputs": [],
   "source": [
    "QtGui.QPicture"
   ]
  }
 ],
 "metadata": {
  "kernelspec": {
   "display_name": "Python 3",
   "language": "python",
   "name": "python3"
  },
  "language_info": {
   "codemirror_mode": {
    "name": "ipython",
    "version": 3
   },
   "file_extension": ".py",
   "mimetype": "text/x-python",
   "name": "python",
   "nbconvert_exporter": "python",
   "pygments_lexer": "ipython3",
   "version": "3.6.5"
  }
 },
 "nbformat": 4,
 "nbformat_minor": 2
}
