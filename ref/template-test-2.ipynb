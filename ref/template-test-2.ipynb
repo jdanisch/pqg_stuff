{
 "cells": [
  {
   "cell_type": "code",
   "execution_count": 1,
   "metadata": {},
   "outputs": [],
   "source": [
    "import sys\n",
    "from PyQt5 import QtWidgets, QtGui"
   ]
  },
  {
   "cell_type": "code",
   "execution_count": 2,
   "metadata": {},
   "outputs": [],
   "source": [
    "class Window(QtWidgets.QWidget):\n",
    "\n",
    "    def __init__(self):\n",
    "        super().__init__()\n",
    "\n",
    "        self.init_ui()\n",
    "\n",
    "    def init_ui(self):\n",
    "        self.b = QtWidgets.QPushButton('Push Me')\n",
    "        self.l = QtWidgets.QLabel('I have not been clicked yet')\n",
    "\n",
    "        h_box = QtWidgets.QHBoxLayout()\n",
    "        h_box.addStretch()\n",
    "        h_box.addWidget(self.l)\n",
    "        h_box.addStretch()\n",
    "\n",
    "        v_box = QtWidgets.QVBoxLayout()\n",
    "        v_box.addWidget(self.b)\n",
    "        v_box.addLayout(h_box)\n",
    "\n",
    "        self.setLayout(v_box)\n",
    "        self.setWindowTitle(' Lesson 5')\n",
    "\n",
    "        self.b.clicked.connect(self.btn_click)\n",
    "\n",
    "        self.show()\n",
    "\n",
    "    def btn_click(self):\n",
    "        self.l.setText('Clicked Liao')"
   ]
  },
  {
   "cell_type": "code",
   "execution_count": 3,
   "metadata": {},
   "outputs": [
    {
     "ename": "SystemExit",
     "evalue": "0",
     "output_type": "error",
     "traceback": [
      "An exception has occurred, use %tb to see the full traceback.\n",
      "\u001b[0;31mSystemExit\u001b[0m\u001b[0;31m:\u001b[0m 0\n"
     ]
    },
    {
     "name": "stderr",
     "output_type": "stream",
     "text": [
      "/home/jc/miniconda3/envs/oanz/lib/python3.6/site-packages/IPython/core/interactiveshell.py:2971: UserWarning: To exit: use 'exit', 'quit', or Ctrl-D.\n",
      "  warn(\"To exit: use 'exit', 'quit', or Ctrl-D.\", stacklevel=1)\n"
     ]
    }
   ],
   "source": [
    "app = QtWidgets.QApplication(sys.argv)\n",
    "a_window = Window()\n",
    "sys.exit(app.exec_())"
   ]
  },
  {
   "cell_type": "code",
   "execution_count": null,
   "metadata": {},
   "outputs": [],
   "source": []
  }
 ],
 "metadata": {
  "kernelspec": {
   "display_name": "Python 3",
   "language": "python",
   "name": "python3"
  },
  "language_info": {
   "codemirror_mode": {
    "name": "ipython",
    "version": 3
   },
   "file_extension": ".py",
   "mimetype": "text/x-python",
   "name": "python",
   "nbconvert_exporter": "python",
   "pygments_lexer": "ipython3",
   "version": "3.6.5"
  }
 },
 "nbformat": 4,
 "nbformat_minor": 2
}
